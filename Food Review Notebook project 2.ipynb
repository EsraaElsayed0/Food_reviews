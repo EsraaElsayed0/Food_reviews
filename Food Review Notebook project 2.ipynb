{
 "cells": [
  {
   "cell_type": "markdown",
   "metadata": {},
   "source": [
    "### Problem Description"
   ]
  },
  {
   "cell_type": "markdown",
   "metadata": {},
   "source": [
    " https://www.kaggle.com/snap/amazon-fine-food-reviews\n",
    " We have dataset abput food review and we have to build a model to predict if the customer reviews is positive or negative.... we have text reviews of some customers in our dataset and we have to do some analysis on it to help model to predict well and to improve the accuracy of the model.\n",
    " On this notebook you will see some analysis on the dataset and the prediction model."
   ]
  },
  {
   "cell_type": "markdown",
   "metadata": {},
   "source": [
    "### Import Packages"
   ]
  },
  {
   "cell_type": "code",
   "execution_count": 478,
   "metadata": {},
   "outputs": [
    {
     "name": "stdout",
     "output_type": "stream",
     "text": [
      "Requirement already satisfied: gensim==3.8.3 in c:\\users\\lapstor\\anaconda3\\lib\\site-packages (3.8.3)\n",
      "Requirement already satisfied: Cython==0.29.14 in c:\\users\\lapstor\\anaconda3\\lib\\site-packages (from gensim==3.8.3) (0.29.14)\n",
      "Requirement already satisfied: six>=1.5.0 in c:\\users\\lapstor\\anaconda3\\lib\\site-packages (from gensim==3.8.3) (1.15.0)\n",
      "Requirement already satisfied: numpy>=1.11.3 in c:\\users\\lapstor\\anaconda3\\lib\\site-packages (from gensim==3.8.3) (1.20.1)\n",
      "Requirement already satisfied: smart-open>=1.8.1 in c:\\users\\lapstor\\anaconda3\\lib\\site-packages (from gensim==3.8.3) (5.2.0)\n",
      "Requirement already satisfied: scipy>=0.18.1 in c:\\users\\lapstor\\anaconda3\\lib\\site-packages (from gensim==3.8.3) (1.6.2)\n"
     ]
    }
   ],
   "source": [
    "!pip3 install gensim==3.8.3"
   ]
  },
  {
   "cell_type": "code",
   "execution_count": 479,
   "metadata": {},
   "outputs": [
    {
     "name": "stderr",
     "output_type": "stream",
     "text": [
      "[nltk_data] Downloading package stopwords to\n",
      "[nltk_data]     C:\\Users\\LapStor\\AppData\\Roaming\\nltk_data...\n",
      "[nltk_data]   Package stopwords is already up-to-date!\n",
      "[nltk_data] Downloading package wordnet to\n",
      "[nltk_data]     C:\\Users\\LapStor\\AppData\\Roaming\\nltk_data...\n",
      "[nltk_data]   Package wordnet is already up-to-date!\n",
      "[nltk_data] Downloading package punkt to\n",
      "[nltk_data]     C:\\Users\\LapStor\\AppData\\Roaming\\nltk_data...\n",
      "[nltk_data]   Package punkt is already up-to-date!\n"
     ]
    }
   ],
   "source": [
    "# Add environment Packages paths to conda\n",
    "import os, sys\n",
    "# env_name = \"food_review\"\n",
    "# sys.path.append(f\"C:\\\\Environments\\\\{env_name}\\\\lib\\\\site-packages\\\\\")\n",
    "\n",
    "import pandas as pd\n",
    "import numpy as np\n",
    "\n",
    "# Text preprocessing packages\n",
    "import nltk # Text libarary\n",
    "nltk.download('stopwords')\n",
    "nltk.download('wordnet')\n",
    "nltk.download('punkt')\n",
    "\n",
    "import string # Removing special characters {#, @, ...}\n",
    "import re # Regex Package\n",
    "from nltk.corpus import stopwords # Stopwords\n",
    "from nltk.stem import SnowballStemmer, WordNetLemmatizer # Stemmer & Lemmatizer\n",
    "from gensim.utils import simple_preprocess  # Text ==> List of Tokens\n",
    "\n",
    "# Text Embedding\n",
    "from sklearn.feature_extraction.text import TfidfVectorizer\n",
    "\n",
    "# Modelling\n",
    "from sklearn.model_selection import train_test_split\n",
    "from sklearn.ensemble import RandomForestClassifier\n",
    "from sklearn.metrics import accuracy_score\n",
    "\n",
    "# Saving Model\n",
    "import pickle\n",
    "\n",
    "# Visualization Packages\n",
    "import seaborn as sns\n",
    "import matplotlib.pyplot as plt\n",
    "sns.set(font_scale=1.3)\n",
    "%matplotlib inline"
   ]
  },
  {
   "cell_type": "markdown",
   "metadata": {},
   "source": [
    "### Read Dataset"
   ]
  },
  {
   "cell_type": "code",
   "execution_count": 480,
   "metadata": {},
   "outputs": [
    {
     "name": "stdout",
     "output_type": "stream",
     "text": [
      "Wall time: 4.85 s\n"
     ]
    }
   ],
   "source": [
    "%%time\n",
    "df = pd.read_csv('Reviews.csv')"
   ]
  },
  {
   "cell_type": "code",
   "execution_count": 481,
   "metadata": {},
   "outputs": [
    {
     "data": {
      "text/plain": [
       "'568,454 Review'"
      ]
     },
     "execution_count": 481,
     "metadata": {},
     "output_type": "execute_result"
    }
   ],
   "source": [
    "f\"{df.shape[0]:,} Review\""
   ]
  },
  {
   "cell_type": "code",
   "execution_count": 482,
   "metadata": {},
   "outputs": [
    {
     "data": {
      "text/html": [
       "<div>\n",
       "<style scoped>\n",
       "    .dataframe tbody tr th:only-of-type {\n",
       "        vertical-align: middle;\n",
       "    }\n",
       "\n",
       "    .dataframe tbody tr th {\n",
       "        vertical-align: top;\n",
       "    }\n",
       "\n",
       "    .dataframe thead th {\n",
       "        text-align: right;\n",
       "    }\n",
       "</style>\n",
       "<table border=\"1\" class=\"dataframe\">\n",
       "  <thead>\n",
       "    <tr style=\"text-align: right;\">\n",
       "      <th></th>\n",
       "      <th>Text</th>\n",
       "      <th>Score</th>\n",
       "    </tr>\n",
       "  </thead>\n",
       "  <tbody>\n",
       "    <tr>\n",
       "      <th>0</th>\n",
       "      <td>I have bought several of the Vitality canned d...</td>\n",
       "      <td>5</td>\n",
       "    </tr>\n",
       "    <tr>\n",
       "      <th>1</th>\n",
       "      <td>Product arrived labeled as Jumbo Salted Peanut...</td>\n",
       "      <td>1</td>\n",
       "    </tr>\n",
       "    <tr>\n",
       "      <th>2</th>\n",
       "      <td>This is a confection that has been around a fe...</td>\n",
       "      <td>4</td>\n",
       "    </tr>\n",
       "    <tr>\n",
       "      <th>3</th>\n",
       "      <td>If you are looking for the secret ingredient i...</td>\n",
       "      <td>2</td>\n",
       "    </tr>\n",
       "    <tr>\n",
       "      <th>4</th>\n",
       "      <td>Great taffy at a great price.  There was a wid...</td>\n",
       "      <td>5</td>\n",
       "    </tr>\n",
       "  </tbody>\n",
       "</table>\n",
       "</div>"
      ],
      "text/plain": [
       "                                                Text  Score\n",
       "0  I have bought several of the Vitality canned d...      5\n",
       "1  Product arrived labeled as Jumbo Salted Peanut...      1\n",
       "2  This is a confection that has been around a fe...      4\n",
       "3  If you are looking for the secret ingredient i...      2\n",
       "4  Great taffy at a great price.  There was a wid...      5"
      ]
     },
     "execution_count": 482,
     "metadata": {},
     "output_type": "execute_result"
    }
   ],
   "source": [
    "cols = ['Text', 'Score']\n",
    "df_text = df[cols].copy()\n",
    "df_text.head()"
   ]
  },
  {
   "cell_type": "code",
   "execution_count": 483,
   "metadata": {},
   "outputs": [
    {
     "data": {
      "text/plain": [
       "(568454, 2)"
      ]
     },
     "execution_count": 483,
     "metadata": {},
     "output_type": "execute_result"
    }
   ],
   "source": [
    "df_text.shape"
   ]
  },
  {
   "cell_type": "markdown",
   "metadata": {},
   "source": [
    "### Drop Duplicates\n",
    "Save the Cleaned data-frame also with the variable `df_text`"
   ]
  },
  {
   "cell_type": "code",
   "execution_count": 484,
   "metadata": {},
   "outputs": [],
   "source": [
    "df_text=df_text.drop_duplicates()"
   ]
  },
  {
   "cell_type": "code",
   "execution_count": 485,
   "metadata": {},
   "outputs": [],
   "source": [
    "df_text = df_text.reset_index(drop=True)## Write your code here"
   ]
  },
  {
   "cell_type": "code",
   "execution_count": 486,
   "metadata": {},
   "outputs": [
    {
     "data": {
      "text/plain": [
       "(393675, 2)"
      ]
     },
     "execution_count": 486,
     "metadata": {},
     "output_type": "execute_result"
    }
   ],
   "source": [
    "df_text.shape"
   ]
  },
  {
   "cell_type": "markdown",
   "metadata": {},
   "source": [
    "### Target Variable Pre-Processing\n",
    "`target` will be \n",
    " - 0 if score < 3 \n",
    " - 1 otherwise"
   ]
  },
  {
   "cell_type": "code",
   "execution_count": 487,
   "metadata": {},
   "outputs": [
    {
     "data": {
      "text/html": [
       "<div>\n",
       "<style scoped>\n",
       "    .dataframe tbody tr th:only-of-type {\n",
       "        vertical-align: middle;\n",
       "    }\n",
       "\n",
       "    .dataframe tbody tr th {\n",
       "        vertical-align: top;\n",
       "    }\n",
       "\n",
       "    .dataframe thead th {\n",
       "        text-align: right;\n",
       "    }\n",
       "</style>\n",
       "<table border=\"1\" class=\"dataframe\">\n",
       "  <thead>\n",
       "    <tr style=\"text-align: right;\">\n",
       "      <th></th>\n",
       "      <th>Text</th>\n",
       "      <th>Score</th>\n",
       "      <th>target</th>\n",
       "    </tr>\n",
       "  </thead>\n",
       "  <tbody>\n",
       "    <tr>\n",
       "      <th>0</th>\n",
       "      <td>I have bought several of the Vitality canned d...</td>\n",
       "      <td>5</td>\n",
       "      <td>1</td>\n",
       "    </tr>\n",
       "    <tr>\n",
       "      <th>1</th>\n",
       "      <td>Product arrived labeled as Jumbo Salted Peanut...</td>\n",
       "      <td>1</td>\n",
       "      <td>0</td>\n",
       "    </tr>\n",
       "    <tr>\n",
       "      <th>2</th>\n",
       "      <td>This is a confection that has been around a fe...</td>\n",
       "      <td>4</td>\n",
       "      <td>1</td>\n",
       "    </tr>\n",
       "    <tr>\n",
       "      <th>3</th>\n",
       "      <td>If you are looking for the secret ingredient i...</td>\n",
       "      <td>2</td>\n",
       "      <td>0</td>\n",
       "    </tr>\n",
       "    <tr>\n",
       "      <th>4</th>\n",
       "      <td>Great taffy at a great price.  There was a wid...</td>\n",
       "      <td>5</td>\n",
       "      <td>1</td>\n",
       "    </tr>\n",
       "  </tbody>\n",
       "</table>\n",
       "</div>"
      ],
      "text/plain": [
       "                                                Text  Score  target\n",
       "0  I have bought several of the Vitality canned d...      5       1\n",
       "1  Product arrived labeled as Jumbo Salted Peanut...      1       0\n",
       "2  This is a confection that has been around a fe...      4       1\n",
       "3  If you are looking for the secret ingredient i...      2       0\n",
       "4  Great taffy at a great price.  There was a wid...      5       1"
      ]
     },
     "execution_count": 487,
     "metadata": {},
     "output_type": "execute_result"
    }
   ],
   "source": [
    "df_text['target'] =df_text.Score.apply(lambda x:0 if x < 3 else 1 )## Write your code here\n",
    "df_text.head(5)"
   ]
  },
  {
   "cell_type": "code",
   "execution_count": 488,
   "metadata": {},
   "outputs": [
    {
     "data": {
      "text/plain": [
       "1    336591\n",
       "0     57084\n",
       "Name: target, dtype: int64"
      ]
     },
     "execution_count": 488,
     "metadata": {},
     "output_type": "execute_result"
    }
   ],
   "source": [
    "df_text['target'].value_counts()"
   ]
  },
  {
   "cell_type": "markdown",
   "metadata": {},
   "source": [
    "#### Plot Countplot for target Variable"
   ]
  },
  {
   "cell_type": "code",
   "execution_count": 489,
   "metadata": {},
   "outputs": [
    {
     "data": {
      "image/png": "[encoded data removed]",
      "text/plain": [
       "<Figure size 432x288 with 1 Axes>"
      ]
     },
     "metadata": {
      "needs_background": "light"
     },
     "output_type": "display_data"
    }
   ],
   "source": [
    "sns.countplot(x ='target',data = df_text) \n",
    "#plt.ylim(0, 8000)\n",
    "plt.show()## Write your code here"
   ]
  },
  {
   "cell_type": "code",
   "execution_count": 490,
   "metadata": {},
   "outputs": [
    {
     "data": {
      "image/png": "[encoded data removed]",
      "text/plain": [
       "<Figure size 432x288 with 1 Axes>"
      ]
     },
     "metadata": {
      "needs_background": "light"
     },
     "output_type": "display_data"
    }
   ],
   "source": [
    "sns.countplot(x ='target',data = df_text) \n",
    "plt.ylim(0, 8000)\n",
    "plt.show()## Write your code here"
   ]
  },
  {
   "cell_type": "markdown",
   "metadata": {},
   "source": [
    "Notice how such variance is huge ...   \n",
    "Then we need to down-sample such data ... by which both the positive and negative classes are balanced.\n",
    "\n",
    "### Balance Data Target"
   ]
  },
  {
   "cell_type": "code",
   "execution_count": 491,
   "metadata": {},
   "outputs": [],
   "source": [
    "# Sample from positive reviews Same number of negative reviews\n",
    "NEG_N = df_text.target.value_counts()[0]\n",
    "df_pos = df_text[df_text['target'] == 1]['Text'].sample(NEG_N, replace=False)\n",
    "df_text_balanced = pd.concat([df_text.iloc[df_pos.index], df_text[df_text.target == 0]])"
   ]
  },
  {
   "cell_type": "code",
   "execution_count": 492,
   "metadata": {},
   "outputs": [
    {
     "data": {
      "image/png": "[encoded data removed]",
      "text/plain": [
       "<Figure size 432x288 with 1 Axes>"
      ]
     },
     "metadata": {
      "needs_background": "light"
     },
     "output_type": "display_data"
    }
   ],
   "source": [
    "sns.countplot(x ='target',data = df_text_balanced) \n",
    "plt.ylim(0,1500)\n",
    "plt.show()## Write your code here## PLot the target again after balancing\n",
    "## Write your code here"
   ]
  },
  {
   "cell_type": "markdown",
   "metadata": {},
   "source": [
    "### Text Pre-Processing"
   ]
  },
  {
   "cell_type": "code",
   "execution_count": 493,
   "metadata": {},
   "outputs": [],
   "source": [
    "#stop_words = set(stopwords.words('english'))\n",
    "#stemmer = SnowballStemmer(\"english\")\n",
    "#lemmatizer= WordNetLemmatizer()"
   ]
  },
  {
   "cell_type": "code",
   "execution_count": 494,
   "metadata": {},
   "outputs": [],
   "source": [
    "## Clean your reviews using stemmer, lemmatizer & stopwords"
   ]
  },
  {
   "cell_type": "code",
   "execution_count": 495,
   "metadata": {},
   "outputs": [],
   "source": [
    "df_text_balanced['Text']= df_text_balanced['Text'].apply(lambda x: re.sub(r\"(@[A-Za-z0-9]+)|([^0-9A-Za-z \\t])|(\\w+:\\/\\/\\S+)|^rt|http.+?\", \"\", x))\n",
    "df_text_balanced['Text'] = df_text_balanced['Text'].str.lower()"
   ]
  },
  {
   "cell_type": "code",
   "execution_count": 496,
   "metadata": {},
   "outputs": [],
   "source": [
    "stop_words = set(stopwords.words('english'))\n",
    "def remove_stopwords(text):\n",
    "    return \" \".join([word for word in str(text).split() if word not in stop_words])\n",
    "df_text_balanced['Text']=df_text_balanced['Text'].apply(lambda text:remove_stopwords(text))"
   ]
  },
  {
   "cell_type": "code",
   "execution_count": 497,
   "metadata": {},
   "outputs": [
    {
     "data": {
      "text/html": [
       "<div>\n",
       "<style scoped>\n",
       "    .dataframe tbody tr th:only-of-type {\n",
       "        vertical-align: middle;\n",
       "    }\n",
       "\n",
       "    .dataframe tbody tr th {\n",
       "        vertical-align: top;\n",
       "    }\n",
       "\n",
       "    .dataframe thead th {\n",
       "        text-align: right;\n",
       "    }\n",
       "</style>\n",
       "<table border=\"1\" class=\"dataframe\">\n",
       "  <thead>\n",
       "    <tr style=\"text-align: right;\">\n",
       "      <th></th>\n",
       "      <th>Text</th>\n",
       "      <th>Score</th>\n",
       "      <th>target</th>\n",
       "    </tr>\n",
       "  </thead>\n",
       "  <tbody>\n",
       "    <tr>\n",
       "      <th>86808</th>\n",
       "      <td>brownie mix creates dense chewy chocolatey del...</td>\n",
       "      <td>5</td>\n",
       "      <td>1</td>\n",
       "    </tr>\n",
       "    <tr>\n",
       "      <th>90381</th>\n",
       "      <td>sugary mixes well cold water doesnt come solut...</td>\n",
       "      <td>5</td>\n",
       "      <td>1</td>\n",
       "    </tr>\n",
       "    <tr>\n",
       "      <th>142101</th>\n",
       "      <td>forgotten good actually little goes long way e...</td>\n",
       "      <td>5</td>\n",
       "      <td>1</td>\n",
       "    </tr>\n",
       "    <tr>\n",
       "      <th>246275</th>\n",
       "      <td>toddler cannot drink cows milk related product...</td>\n",
       "      <td>5</td>\n",
       "      <td>1</td>\n",
       "    </tr>\n",
       "    <tr>\n",
       "      <th>31090</th>\n",
       "      <td>highly recommend hibiscus tea davidsons wonder...</td>\n",
       "      <td>5</td>\n",
       "      <td>1</td>\n",
       "    </tr>\n",
       "  </tbody>\n",
       "</table>\n",
       "</div>"
      ],
      "text/plain": [
       "                                                     Text  Score  target\n",
       "86808   brownie mix creates dense chewy chocolatey del...      5       1\n",
       "90381   sugary mixes well cold water doesnt come solut...      5       1\n",
       "142101  forgotten good actually little goes long way e...      5       1\n",
       "246275  toddler cannot drink cows milk related product...      5       1\n",
       "31090   highly recommend hibiscus tea davidsons wonder...      5       1"
      ]
     },
     "execution_count": 497,
     "metadata": {},
     "output_type": "execute_result"
    }
   ],
   "source": [
    "df_text_balanced.head(5)"
   ]
  },
  {
   "cell_type": "code",
   "execution_count": 498,
   "metadata": {},
   "outputs": [
    {
     "data": {
      "text/html": [
       "<div>\n",
       "<style scoped>\n",
       "    .dataframe tbody tr th:only-of-type {\n",
       "        vertical-align: middle;\n",
       "    }\n",
       "\n",
       "    .dataframe tbody tr th {\n",
       "        vertical-align: top;\n",
       "    }\n",
       "\n",
       "    .dataframe thead th {\n",
       "        text-align: right;\n",
       "    }\n",
       "</style>\n",
       "<table border=\"1\" class=\"dataframe\">\n",
       "  <thead>\n",
       "    <tr style=\"text-align: right;\">\n",
       "      <th></th>\n",
       "      <th>Text</th>\n",
       "      <th>Score</th>\n",
       "      <th>target</th>\n",
       "      <th>text_tokens</th>\n",
       "    </tr>\n",
       "  </thead>\n",
       "  <tbody>\n",
       "    <tr>\n",
       "      <th>86808</th>\n",
       "      <td>brownie mix creates dense chewy chocolatey del...</td>\n",
       "      <td>5</td>\n",
       "      <td>1</td>\n",
       "      <td>[brownie, mix, creates, dense, chewy, chocolat...</td>\n",
       "    </tr>\n",
       "    <tr>\n",
       "      <th>90381</th>\n",
       "      <td>sugary mixes well cold water doesnt come solut...</td>\n",
       "      <td>5</td>\n",
       "      <td>1</td>\n",
       "      <td>[sugary, mixes, well, cold, water, doesnt, com...</td>\n",
       "    </tr>\n",
       "    <tr>\n",
       "      <th>142101</th>\n",
       "      <td>forgotten good actually little goes long way e...</td>\n",
       "      <td>5</td>\n",
       "      <td>1</td>\n",
       "      <td>[forgotten, good, actually, little, goes, long...</td>\n",
       "    </tr>\n",
       "    <tr>\n",
       "      <th>246275</th>\n",
       "      <td>toddler cannot drink cows milk related product...</td>\n",
       "      <td>5</td>\n",
       "      <td>1</td>\n",
       "      <td>[toddler, can, not, drink, cows, milk, related...</td>\n",
       "    </tr>\n",
       "    <tr>\n",
       "      <th>31090</th>\n",
       "      <td>highly recommend hibiscus tea davidsons wonder...</td>\n",
       "      <td>5</td>\n",
       "      <td>1</td>\n",
       "      <td>[highly, recommend, hibiscus, tea, davidsons, ...</td>\n",
       "    </tr>\n",
       "  </tbody>\n",
       "</table>\n",
       "</div>"
      ],
      "text/plain": [
       "                                                     Text  Score  target  \\\n",
       "86808   brownie mix creates dense chewy chocolatey del...      5       1   \n",
       "90381   sugary mixes well cold water doesnt come solut...      5       1   \n",
       "142101  forgotten good actually little goes long way e...      5       1   \n",
       "246275  toddler cannot drink cows milk related product...      5       1   \n",
       "31090   highly recommend hibiscus tea davidsons wonder...      5       1   \n",
       "\n",
       "                                              text_tokens  \n",
       "86808   [brownie, mix, creates, dense, chewy, chocolat...  \n",
       "90381   [sugary, mixes, well, cold, water, doesnt, com...  \n",
       "142101  [forgotten, good, actually, little, goes, long...  \n",
       "246275  [toddler, can, not, drink, cows, milk, related...  \n",
       "31090   [highly, recommend, hibiscus, tea, davidsons, ...  "
      ]
     },
     "execution_count": 498,
     "metadata": {},
     "output_type": "execute_result"
    }
   ],
   "source": [
    "from nltk.tokenize import sent_tokenize,word_tokenize\n",
    "df_text_balanced['text_tokens'] =df_text_balanced['Text'].apply(lambda x: word_tokenize(x))\n",
    "df_text_balanced.head(5)"
   ]
  },
  {
   "cell_type": "code",
   "execution_count": 499,
   "metadata": {},
   "outputs": [
    {
     "data": {
      "text/html": [
       "<div>\n",
       "<style scoped>\n",
       "    .dataframe tbody tr th:only-of-type {\n",
       "        vertical-align: middle;\n",
       "    }\n",
       "\n",
       "    .dataframe tbody tr th {\n",
       "        vertical-align: top;\n",
       "    }\n",
       "\n",
       "    .dataframe thead th {\n",
       "        text-align: right;\n",
       "    }\n",
       "</style>\n",
       "<table border=\"1\" class=\"dataframe\">\n",
       "  <thead>\n",
       "    <tr style=\"text-align: right;\">\n",
       "      <th></th>\n",
       "      <th>Text</th>\n",
       "      <th>Score</th>\n",
       "      <th>target</th>\n",
       "      <th>text_tokens</th>\n",
       "      <th>text_tokens_lemma</th>\n",
       "    </tr>\n",
       "  </thead>\n",
       "  <tbody>\n",
       "    <tr>\n",
       "      <th>86808</th>\n",
       "      <td>brownie mix creates dense chewy chocolatey del...</td>\n",
       "      <td>5</td>\n",
       "      <td>1</td>\n",
       "      <td>[brownie, mix, creates, dense, chewy, chocolat...</td>\n",
       "      <td>[brownie, mix, creates, dense, chewy, chocolat...</td>\n",
       "    </tr>\n",
       "    <tr>\n",
       "      <th>90381</th>\n",
       "      <td>sugary mixes well cold water doesnt come solut...</td>\n",
       "      <td>5</td>\n",
       "      <td>1</td>\n",
       "      <td>[sugary, mixes, well, cold, water, doesnt, com...</td>\n",
       "      <td>[sugary, mix, well, cold, water, doesnt, come,...</td>\n",
       "    </tr>\n",
       "    <tr>\n",
       "      <th>142101</th>\n",
       "      <td>forgotten good actually little goes long way e...</td>\n",
       "      <td>5</td>\n",
       "      <td>1</td>\n",
       "      <td>[forgotten, good, actually, little, goes, long...</td>\n",
       "      <td>[forgotten, good, actually, little, go, long, ...</td>\n",
       "    </tr>\n",
       "    <tr>\n",
       "      <th>246275</th>\n",
       "      <td>toddler cannot drink cows milk related product...</td>\n",
       "      <td>5</td>\n",
       "      <td>1</td>\n",
       "      <td>[toddler, can, not, drink, cows, milk, related...</td>\n",
       "      <td>[toddler, can, not, drink, cow, milk, related,...</td>\n",
       "    </tr>\n",
       "    <tr>\n",
       "      <th>31090</th>\n",
       "      <td>highly recommend hibiscus tea davidsons wonder...</td>\n",
       "      <td>5</td>\n",
       "      <td>1</td>\n",
       "      <td>[highly, recommend, hibiscus, tea, davidsons, ...</td>\n",
       "      <td>[highly, recommend, hibiscus, tea, davidsons, ...</td>\n",
       "    </tr>\n",
       "  </tbody>\n",
       "</table>\n",
       "</div>"
      ],
      "text/plain": [
       "                                                     Text  Score  target  \\\n",
       "86808   brownie mix creates dense chewy chocolatey del...      5       1   \n",
       "90381   sugary mixes well cold water doesnt come solut...      5       1   \n",
       "142101  forgotten good actually little goes long way e...      5       1   \n",
       "246275  toddler cannot drink cows milk related product...      5       1   \n",
       "31090   highly recommend hibiscus tea davidsons wonder...      5       1   \n",
       "\n",
       "                                              text_tokens  \\\n",
       "86808   [brownie, mix, creates, dense, chewy, chocolat...   \n",
       "90381   [sugary, mixes, well, cold, water, doesnt, com...   \n",
       "142101  [forgotten, good, actually, little, goes, long...   \n",
       "246275  [toddler, can, not, drink, cows, milk, related...   \n",
       "31090   [highly, recommend, hibiscus, tea, davidsons, ...   \n",
       "\n",
       "                                        text_tokens_lemma  \n",
       "86808   [brownie, mix, creates, dense, chewy, chocolat...  \n",
       "90381   [sugary, mix, well, cold, water, doesnt, come,...  \n",
       "142101  [forgotten, good, actually, little, go, long, ...  \n",
       "246275  [toddler, can, not, drink, cow, milk, related,...  \n",
       "31090   [highly, recommend, hibiscus, tea, davidsons, ...  "
      ]
     },
     "execution_count": 499,
     "metadata": {},
     "output_type": "execute_result"
    }
   ],
   "source": [
    "lemmatizer= WordNetLemmatizer()\n",
    "def text_lemmatizer(text):\n",
    "    lem_text = [WordNetLemmatizer().lemmatize(i) for i in text]\n",
    "    return lem_text\n",
    "df_text_balanced['text_tokens_lemma'] = df_text_balanced['text_tokens'].apply(lambda x: text_lemmatizer(x))\n",
    "df_text_balanced.head(5)"
   ]
  },
  {
   "cell_type": "code",
   "execution_count": 500,
   "metadata": {},
   "outputs": [
    {
     "data": {
      "text/html": [
       "<div>\n",
       "<style scoped>\n",
       "    .dataframe tbody tr th:only-of-type {\n",
       "        vertical-align: middle;\n",
       "    }\n",
       "\n",
       "    .dataframe tbody tr th {\n",
       "        vertical-align: top;\n",
       "    }\n",
       "\n",
       "    .dataframe thead th {\n",
       "        text-align: right;\n",
       "    }\n",
       "</style>\n",
       "<table border=\"1\" class=\"dataframe\">\n",
       "  <thead>\n",
       "    <tr style=\"text-align: right;\">\n",
       "      <th></th>\n",
       "      <th>Text</th>\n",
       "      <th>Score</th>\n",
       "      <th>target</th>\n",
       "      <th>text_tokens</th>\n",
       "      <th>text_tokens_lemma</th>\n",
       "      <th>text_tokens_stem</th>\n",
       "    </tr>\n",
       "  </thead>\n",
       "  <tbody>\n",
       "    <tr>\n",
       "      <th>86808</th>\n",
       "      <td>brownie mix creates dense chewy chocolatey del...</td>\n",
       "      <td>5</td>\n",
       "      <td>1</td>\n",
       "      <td>[brownie, mix, creates, dense, chewy, chocolat...</td>\n",
       "      <td>[brownie, mix, creates, dense, chewy, chocolat...</td>\n",
       "      <td>[browni, mix, creat, dens, chewi, chocolatey, ...</td>\n",
       "    </tr>\n",
       "    <tr>\n",
       "      <th>90381</th>\n",
       "      <td>sugary mixes well cold water doesnt come solut...</td>\n",
       "      <td>5</td>\n",
       "      <td>1</td>\n",
       "      <td>[sugary, mixes, well, cold, water, doesnt, com...</td>\n",
       "      <td>[sugary, mix, well, cold, water, doesnt, come,...</td>\n",
       "      <td>[sugari, mix, well, cold, water, doesnt, come,...</td>\n",
       "    </tr>\n",
       "    <tr>\n",
       "      <th>142101</th>\n",
       "      <td>forgotten good actually little goes long way e...</td>\n",
       "      <td>5</td>\n",
       "      <td>1</td>\n",
       "      <td>[forgotten, good, actually, little, goes, long...</td>\n",
       "      <td>[forgotten, good, actually, little, go, long, ...</td>\n",
       "      <td>[forgotten, good, actual, littl, go, long, way...</td>\n",
       "    </tr>\n",
       "    <tr>\n",
       "      <th>246275</th>\n",
       "      <td>toddler cannot drink cows milk related product...</td>\n",
       "      <td>5</td>\n",
       "      <td>1</td>\n",
       "      <td>[toddler, can, not, drink, cows, milk, related...</td>\n",
       "      <td>[toddler, can, not, drink, cow, milk, related,...</td>\n",
       "      <td>[toddler, can, not, drink, cow, milk, relat, p...</td>\n",
       "    </tr>\n",
       "    <tr>\n",
       "      <th>31090</th>\n",
       "      <td>highly recommend hibiscus tea davidsons wonder...</td>\n",
       "      <td>5</td>\n",
       "      <td>1</td>\n",
       "      <td>[highly, recommend, hibiscus, tea, davidsons, ...</td>\n",
       "      <td>[highly, recommend, hibiscus, tea, davidsons, ...</td>\n",
       "      <td>[high, recommend, hibiscus, tea, davidson, won...</td>\n",
       "    </tr>\n",
       "  </tbody>\n",
       "</table>\n",
       "</div>"
      ],
      "text/plain": [
       "                                                     Text  Score  target  \\\n",
       "86808   brownie mix creates dense chewy chocolatey del...      5       1   \n",
       "90381   sugary mixes well cold water doesnt come solut...      5       1   \n",
       "142101  forgotten good actually little goes long way e...      5       1   \n",
       "246275  toddler cannot drink cows milk related product...      5       1   \n",
       "31090   highly recommend hibiscus tea davidsons wonder...      5       1   \n",
       "\n",
       "                                              text_tokens  \\\n",
       "86808   [brownie, mix, creates, dense, chewy, chocolat...   \n",
       "90381   [sugary, mixes, well, cold, water, doesnt, com...   \n",
       "142101  [forgotten, good, actually, little, goes, long...   \n",
       "246275  [toddler, can, not, drink, cows, milk, related...   \n",
       "31090   [highly, recommend, hibiscus, tea, davidsons, ...   \n",
       "\n",
       "                                        text_tokens_lemma  \\\n",
       "86808   [brownie, mix, creates, dense, chewy, chocolat...   \n",
       "90381   [sugary, mix, well, cold, water, doesnt, come,...   \n",
       "142101  [forgotten, good, actually, little, go, long, ...   \n",
       "246275  [toddler, can, not, drink, cow, milk, related,...   \n",
       "31090   [highly, recommend, hibiscus, tea, davidsons, ...   \n",
       "\n",
       "                                         text_tokens_stem  \n",
       "86808   [browni, mix, creat, dens, chewi, chocolatey, ...  \n",
       "90381   [sugari, mix, well, cold, water, doesnt, come,...  \n",
       "142101  [forgotten, good, actual, littl, go, long, way...  \n",
       "246275  [toddler, can, not, drink, cow, milk, relat, p...  \n",
       "31090   [high, recommend, hibiscus, tea, davidson, won...  "
      ]
     },
     "execution_count": 500,
     "metadata": {},
     "output_type": "execute_result"
    }
   ],
   "source": [
    "stemmer = SnowballStemmer(\"english\")\n",
    "def text_stemmer(text):\n",
    "    stem_text = [SnowballStemmer(\"english\").stem(i) for i in text]\n",
    "    return stem_text\n",
    "df_text_balanced['text_tokens_stem'] =df_text_balanced['text_tokens_lemma'].apply(lambda x: text_stemmer(x))\n",
    "df_text_balanced.head(5)"
   ]
  },
  {
   "cell_type": "code",
   "execution_count": 501,
   "metadata": {},
   "outputs": [],
   "source": [
    "df_text_balanced.drop(['text_tokens', 'text_tokens_lemma'], axis='columns', inplace=True)"
   ]
  },
  {
   "cell_type": "code",
   "execution_count": 502,
   "metadata": {},
   "outputs": [],
   "source": [
    "df_text_balanced['Text']=df_text_balanced['text_tokens_stem'].str.join(' ')"
   ]
  },
  {
   "cell_type": "code",
   "execution_count": 503,
   "metadata": {},
   "outputs": [],
   "source": [
    "df_text_balanced.drop(['text_tokens_stem'], axis='columns', inplace=True)"
   ]
  },
  {
   "cell_type": "code",
   "execution_count": 504,
   "metadata": {},
   "outputs": [
    {
     "data": {
      "text/html": [
       "<div>\n",
       "<style scoped>\n",
       "    .dataframe tbody tr th:only-of-type {\n",
       "        vertical-align: middle;\n",
       "    }\n",
       "\n",
       "    .dataframe tbody tr th {\n",
       "        vertical-align: top;\n",
       "    }\n",
       "\n",
       "    .dataframe thead th {\n",
       "        text-align: right;\n",
       "    }\n",
       "</style>\n",
       "<table border=\"1\" class=\"dataframe\">\n",
       "  <thead>\n",
       "    <tr style=\"text-align: right;\">\n",
       "      <th></th>\n",
       "      <th>Text</th>\n",
       "      <th>Score</th>\n",
       "      <th>target</th>\n",
       "    </tr>\n",
       "  </thead>\n",
       "  <tbody>\n",
       "    <tr>\n",
       "      <th>86808</th>\n",
       "      <td>browni mix creat dens chewi chocolatey delici ...</td>\n",
       "      <td>5</td>\n",
       "      <td>1</td>\n",
       "    </tr>\n",
       "    <tr>\n",
       "      <th>90381</th>\n",
       "      <td>sugari mix well cold water doesnt come solut d...</td>\n",
       "      <td>5</td>\n",
       "      <td>1</td>\n",
       "    </tr>\n",
       "    <tr>\n",
       "      <th>142101</th>\n",
       "      <td>forgotten good actual littl go long way easi u...</td>\n",
       "      <td>5</td>\n",
       "      <td>1</td>\n",
       "    </tr>\n",
       "    <tr>\n",
       "      <th>246275</th>\n",
       "      <td>toddler can not drink cow milk relat product h...</td>\n",
       "      <td>5</td>\n",
       "      <td>1</td>\n",
       "    </tr>\n",
       "    <tr>\n",
       "      <th>31090</th>\n",
       "      <td>high recommend hibiscus tea davidson wonder la...</td>\n",
       "      <td>5</td>\n",
       "      <td>1</td>\n",
       "    </tr>\n",
       "  </tbody>\n",
       "</table>\n",
       "</div>"
      ],
      "text/plain": [
       "                                                     Text  Score  target\n",
       "86808   browni mix creat dens chewi chocolatey delici ...      5       1\n",
       "90381   sugari mix well cold water doesnt come solut d...      5       1\n",
       "142101  forgotten good actual littl go long way easi u...      5       1\n",
       "246275  toddler can not drink cow milk relat product h...      5       1\n",
       "31090   high recommend hibiscus tea davidson wonder la...      5       1"
      ]
     },
     "execution_count": 504,
     "metadata": {},
     "output_type": "execute_result"
    }
   ],
   "source": [
    "df_text_balanced.head(5)"
   ]
  },
  {
   "cell_type": "markdown",
   "metadata": {},
   "source": [
    "### Split Test & Training Data"
   ]
  },
  {
   "cell_type": "code",
   "execution_count": 505,
   "metadata": {},
   "outputs": [],
   "source": [
    "X =df_text_balanced['Text']## Write your code here\n",
    "y =df_text_balanced['target'] ## Write your code here\n",
    "X_train, X_test, y_train, y_test = train_test_split(X, y, test_size=0.3, random_state=42)"
   ]
  },
  {
   "cell_type": "markdown",
   "metadata": {},
   "source": [
    "### Text Embedding\n",
    " - Use `TfidfVectorizer`\n",
    " - `fit` on the training data only\n",
    " - `transform` on training and test "
   ]
  },
  {
   "cell_type": "code",
   "execution_count": 506,
   "metadata": {},
   "outputs": [],
   "source": [
    "## TFIDF embedding for the Description\n",
    "vectorizer =TfidfVectorizer()## Write your code here\n",
    "# fit on training (such vectorizer will be saved for deployment)\n",
    "vectorizer_tfidf =vectorizer.fit(X_train) ## Write your code here\n",
    "# transform on training data\n",
    "X_train =vectorizer_tfidf.fit_transform(X_train)## Write your code here\n",
    "## Write your code here\n",
    "# transform on testing data\n",
    "X_test = vectorizer.transform(X_test)## Write your code here\n",
    " ## Write your code here"
   ]
  },
  {
   "cell_type": "code",
   "execution_count": 507,
   "metadata": {},
   "outputs": [
    {
     "data": {
      "text/plain": [
       "((79917, 73003), (34251, 73003))"
      ]
     },
     "execution_count": 507,
     "metadata": {},
     "output_type": "execute_result"
    }
   ],
   "source": [
    "# See the dimensions of your data embeddings before entering to the model\n",
    "X_train.shape, X_test.shape"
   ]
  },
  {
   "cell_type": "markdown",
   "metadata": {},
   "source": [
    "### Modelling"
   ]
  },
  {
   "cell_type": "code",
   "execution_count": 508,
   "metadata": {},
   "outputs": [],
   "source": [
    "from sklearn.ensemble import RandomForestClassifier\n",
    "from sklearn.metrics import accuracy_score"
   ]
  },
  {
   "cell_type": "markdown",
   "metadata": {},
   "source": [
    "##### Sklearn framework steps\n",
    " - init\n",
    " - fit\n",
    " - predict"
   ]
  },
  {
   "cell_type": "code",
   "execution_count": 509,
   "metadata": {},
   "outputs": [
    {
     "name": "stdout",
     "output_type": "stream",
     "text": [
      "Model Accuracy = 83.83%\n"
     ]
    }
   ],
   "source": [
    "## initialize your Model\n",
    "clf =RandomForestClassifier() \n",
    "# Fit your Model on the Training Dataset\n",
    "clf.fit(X_train, y_train)\n",
    "# Predict on Test data\n",
    "preds = clf.predict(X_test)\n",
    "# Calculate Model Accuracy\n",
    "acc = accuracy_score(preds, y_test)\n",
    "print(f\"Model Accuracy = {round(acc*100,2)}%\")"
   ]
  },
  {
   "cell_type": "markdown",
   "metadata": {},
   "source": [
    "### Raw Instance Prediction"
   ]
  },
  {
   "cell_type": "code",
   "execution_count": 510,
   "metadata": {},
   "outputs": [],
   "source": [
    "def cleaning (review):\n",
    "    review_c=[]\n",
    "    review_1=word_tokenize(review)\n",
    "    for i in review_1:\n",
    "        if i.lower() not in stop_words:\n",
    "            re_review=re.sub(r\"(@[A-Za-z0-9]+)|([^0-9A-Za-z \\t])|(\\w+:\\/\\/\\S+)|^rt|http.+?\", \"\", i)\n",
    "            review_s=SnowballStemmer('english').stem(re_review)\n",
    "            review_c.append(review_s)\n",
    "    return \" \".join(review_c)"
   ]
  },
  {
   "cell_type": "code",
   "execution_count": 511,
   "metadata": {},
   "outputs": [],
   "source": [
    "from sklearn.feature_extraction.text import TfidfVectorizer\n",
    "def raw_test(review, model, vectorizer):\n",
    "    # Clean Review\n",
    "    review_c =cleaning(review)\n",
    "    # Embed review using tf-idf vectorizer\n",
    "    embedding =vectorizer.transform([review_c])\n",
    "    # Predict using your model\n",
    "    prediction =model.predict(embedding)\n",
    "    # Return the Sentiment Prediction\n",
    "    return \"Positive\" if prediction == 1 else \"Negative\""
   ]
  },
  {
   "cell_type": "code",
   "execution_count": 512,
   "metadata": {},
   "outputs": [],
   "source": [
    "review_1 = \"That's a good Dish, Good Job\"\n",
    "review_2 = \"That's the worst Dish ever tasted\""
   ]
  },
  {
   "cell_type": "code",
   "execution_count": 513,
   "metadata": {},
   "outputs": [
    {
     "data": {
      "text/plain": [
       "'Positive'"
      ]
     },
     "execution_count": 513,
     "metadata": {},
     "output_type": "execute_result"
    }
   ],
   "source": [
    "raw_test(review_1, clf, vectorizer_tfidf)"
   ]
  },
  {
   "cell_type": "code",
   "execution_count": 514,
   "metadata": {},
   "outputs": [
    {
     "data": {
      "text/plain": [
       "'Negative'"
      ]
     },
     "execution_count": 514,
     "metadata": {},
     "output_type": "execute_result"
    }
   ],
   "source": [
    "raw_test(review_2, clf, vectorizer_tfidf)"
   ]
  },
  {
   "cell_type": "markdown",
   "metadata": {},
   "source": [
    "### Saving Models for Deployment"
   ]
  },
  {
   "cell_type": "code",
   "execution_count": 515,
   "metadata": {},
   "outputs": [],
   "source": [
    "import pickle"
   ]
  },
  {
   "cell_type": "code",
   "execution_count": 516,
   "metadata": {},
   "outputs": [],
   "source": [
    "model_name = 'rf_model.pk'\n",
    "vectorizer_name = 'tfidf_vectorizer.pk'\n",
    "model_path = os.path.join('/', model_name)\n",
    "vect_path = os.path.join('/', vectorizer_name)\n",
    "\n",
    "model=pickle.dump(clf, open(model_name, 'wb'))## Save model\n",
    "vectorizer=pickle.dump(vectorizer, open(vectorizer_name, 'wb'))## Save tfidf-vectorizer"
   ]
  },
  {
   "cell_type": "markdown",
   "metadata": {},
   "source": [
    "### Load model Again and test them"
   ]
  },
  {
   "cell_type": "code",
   "execution_count": 517,
   "metadata": {},
   "outputs": [],
   "source": [
    "loaded_model =pickle.load(open('rf_model.pk', 'rb'))\n",
    "loaded_vect = pickle.load(open('tfidf_vectorizer.pk', 'rb'))"
   ]
  },
  {
   "cell_type": "code",
   "execution_count": 518,
   "metadata": {},
   "outputs": [
    {
     "data": {
      "text/plain": [
       "'Positive'"
      ]
     },
     "execution_count": 518,
     "metadata": {},
     "output_type": "execute_result"
    }
   ],
   "source": [
    "raw_test(review_1, loaded_model, loaded_vect)"
   ]
  },
  {
   "cell_type": "code",
   "execution_count": 519,
   "metadata": {},
   "outputs": [
    {
     "data": {
      "text/plain": [
       "'Negative'"
      ]
     },
     "execution_count": 519,
     "metadata": {},
     "output_type": "execute_result"
    }
   ],
   "source": [
    "raw_test(review_2, loaded_model, loaded_vect)"
   ]
  },
  {
   "cell_type": "markdown",
   "metadata": {},
   "source": [
    "# Great Job !\n",
    "### Now Deploy your ML model using Streamlit Framework"
   ]
  }
 ],
 "metadata": {
  "kernelspec": {
   "display_name": "Python 3",
   "language": "python",
   "name": "python3"
  },
  "language_info": {
   "codemirror_mode": {
    "name": "ipython",
    "version": 3
   },
   "file_extension": ".py",
   "mimetype": "text/x-python",
   "name": "python",
   "nbconvert_exporter": "python",
   "pygments_lexer": "ipython3",
   "version": "3.8.8"
  }
 },
 "nbformat": 4,
 "nbformat_minor": 2
}
